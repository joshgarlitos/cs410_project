{
 "cells": [
  {
   "cell_type": "markdown",
   "metadata": {},
   "source": [
    "# Intro\n",
    "\n",
    "This project's goal were to obtain guest comments about venues at Universal Orlando Resort to understand the trend of ratings and guest feelings about their experience over time.\n",
    "\n",
    "## Project Components\n",
    "\n",
    "### Requirements Setup\n",
    "This is a simple notebook to run that will install necessary components to run the features of this project in Jupyter.\n",
    "\n",
    "Link to [Requirements Notebook](Requirements.ipynb)\n",
    "\n",
    "### Scraper\n",
    "This feature lets a user input TripAdvisor URLs to scrape comments from. These comments along with related metadata are then stored and available for further analysis.\n",
    "\n",
    "Link to [Scraper Notebook](Scraper.ipynb)\n",
    "\n",
    "### Searcher\n",
    "This feature lets a user input a query to search scraped TripAdvisor comments and plot the trend in guest ratings for comments identified as relevant.\n",
    "\n",
    "Link to [Searcher Notebook](Searcher.ipynb)\n"
   ]
  },
  {
   "cell_type": "code",
   "execution_count": null,
   "metadata": {},
   "outputs": [],
   "source": []
  }
 ],
 "metadata": {
  "kernelspec": {
   "display_name": "Python 3",
   "language": "python",
   "name": "python3"
  },
  "language_info": {
   "codemirror_mode": {
    "name": "ipython",
    "version": 3
   },
   "file_extension": ".py",
   "mimetype": "text/x-python",
   "name": "python",
   "nbconvert_exporter": "python",
   "pygments_lexer": "ipython3",
   "version": "3.6.5"
  }
 },
 "nbformat": 4,
 "nbformat_minor": 2
}
