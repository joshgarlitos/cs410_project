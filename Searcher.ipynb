{
 "cells": [
  {
   "cell_type": "markdown",
   "metadata": {},
   "source": [
    "# Searcher Feature\n",
    "## Query for Comments & Visualize Ratings Over Time\n",
    "\n",
    "This feature allows users to type a query below and search for relevant comments in the dataset. The TripAdvisor rating per each guest is then used to plot a rating trend relative to the query over time.\n",
    "\n",
    "Instructions:\n",
    "1. Update `query_text` string to query you wish to search for in the TripAdivsor comments.\n",
    "2. Make sure that you have the appropriate dataset name set in the `config.toml` file."
   ]
  },
  {
   "cell_type": "markdown",
   "metadata": {},
   "source": [
    "## Inputs & Setup"
   ]
  },
  {
   "cell_type": "code",
   "execution_count": 1,
   "metadata": {
    "collapsed": true
   },
   "outputs": [],
   "source": [
    "import metapy\n",
    "import pandas as pd\n",
    "from matplotlib import pyplot as plt\n",
    "from matplotlib import dates\n",
    "%matplotlib inline\n",
    "import seaborn as sns\n",
    "import numpy as np\n",
    "\n",
    "\n",
    "# Input variables\n",
    "file_stem = \"uo_wide\"\n",
    "query_text = \"lockers\""
   ]
  },
  {
   "cell_type": "markdown",
   "metadata": {},
   "source": [
    "## Query the data and create a dataframe for visualizing relevant queries"
   ]
  },
  {
   "cell_type": "code",
   "execution_count": 5,
   "metadata": {},
   "outputs": [
    {
     "ename": "RuntimeError",
     "evalue": "metadata input file ended prematurely",
     "output_type": "error",
     "traceback": [
      "\u001b[0;31m---------------------------------------------------------------------------\u001b[0m",
      "\u001b[0;31mRuntimeError\u001b[0m                              Traceback (most recent call last)",
      "\u001b[0;32m<ipython-input-5-6f25da720047>\u001b[0m in \u001b[0;36m<module>\u001b[0;34m()\u001b[0m\n\u001b[1;32m      1\u001b[0m \u001b[0;31m# Create inverted index for searching\u001b[0m\u001b[0;34m\u001b[0m\u001b[0;34m\u001b[0m\u001b[0m\n\u001b[0;32m----> 2\u001b[0;31m \u001b[0midx\u001b[0m \u001b[0;34m=\u001b[0m \u001b[0mmetapy\u001b[0m\u001b[0;34m.\u001b[0m\u001b[0mindex\u001b[0m\u001b[0;34m.\u001b[0m\u001b[0mmake_inverted_index\u001b[0m\u001b[0;34m(\u001b[0m\u001b[0;34m'config.toml'\u001b[0m\u001b[0;34m)\u001b[0m\u001b[0;34m\u001b[0m\u001b[0m\n\u001b[0m",
      "\u001b[0;31mRuntimeError\u001b[0m: metadata input file ended prematurely"
     ]
    }
   ],
   "source": [
    "%%capture\n",
    "# Create inverted index for searching\n",
    "idx = metapy.index.make_inverted_index('config.toml')"
   ]
  },
  {
   "cell_type": "code",
   "execution_count": 2,
   "metadata": {},
   "outputs": [
    {
     "ename": "RuntimeError",
     "evalue": "metadata input file ended prematurely",
     "output_type": "error",
     "traceback": [
      "\u001b[0;31m---------------------------------------------------------------------------\u001b[0m",
      "\u001b[0;31mRuntimeError\u001b[0m                              Traceback (most recent call last)",
      "\u001b[0;32m<ipython-input-2-fb969dbc1634>\u001b[0m in \u001b[0;36m<module>\u001b[0;34m()\u001b[0m\n\u001b[1;32m      1\u001b[0m \u001b[0;31m# Create inverted index for searching\u001b[0m\u001b[0;34m\u001b[0m\u001b[0;34m\u001b[0m\u001b[0m\n\u001b[0;32m----> 2\u001b[0;31m \u001b[0midx\u001b[0m \u001b[0;34m=\u001b[0m \u001b[0mmetapy\u001b[0m\u001b[0;34m.\u001b[0m\u001b[0mindex\u001b[0m\u001b[0;34m.\u001b[0m\u001b[0mmake_inverted_index\u001b[0m\u001b[0;34m(\u001b[0m\u001b[0;34m'config.toml'\u001b[0m\u001b[0;34m)\u001b[0m\u001b[0;34m\u001b[0m\u001b[0m\n\u001b[0m\u001b[1;32m      3\u001b[0m \u001b[0;34m\u001b[0m\u001b[0m\n\u001b[1;32m      4\u001b[0m \u001b[0;31m# Set up ranker & query\u001b[0m\u001b[0;34m\u001b[0m\u001b[0;34m\u001b[0m\u001b[0m\n\u001b[1;32m      5\u001b[0m \u001b[0mranker\u001b[0m \u001b[0;34m=\u001b[0m \u001b[0mmetapy\u001b[0m\u001b[0;34m.\u001b[0m\u001b[0mindex\u001b[0m\u001b[0;34m.\u001b[0m\u001b[0mOkapiBM25\u001b[0m\u001b[0;34m(\u001b[0m\u001b[0;34m)\u001b[0m \u001b[0;31m# Change this to change ranker\u001b[0m\u001b[0;34m\u001b[0m\u001b[0m\n",
      "\u001b[0;31mRuntimeError\u001b[0m: metadata input file ended prematurely"
     ]
    }
   ],
   "source": [
    "# Set up ranker & query\n",
    "ranker = metapy.index.OkapiBM25() # Change this to change ranker\n",
    "query = metapy.index.Document()\n",
    "query.content(query_text) \n",
    "\n",
    "top_docs = ranker.score(idx, query, num_results=100)\n",
    "\n",
    "\n",
    "# Create empty dataframe to hold relevant reviews\n",
    "reviews_df = pd.DataFrame(columns = ['review_id', 'venue_name', 'review_date', 'content',\n",
    "                                 'rating', 'helpful_vote', 'user_location', 'query_relevance'])\n",
    "\n",
    "for num, (d_id, score) in enumerate(top_docs):\n",
    "    \n",
    "    if type(idx.metadata(d_id).get('review_id')):\n",
    "        \n",
    "        print(d_id)\n",
    "        \n",
    "        row = {\n",
    "        'review_id' : str(idx.metadata(d_id).get('review_id')),\n",
    "        'venue_name' : str(idx.metadata(d_id).get('venue_name')),\n",
    "        'review_date' : str(idx.metadata(d_id).get('review_date')),\n",
    "        'content' : str(idx.metadata(d_id).get('content')),\n",
    "        'rating' : str(idx.metadata(d_id).get('rating')),\n",
    "        'helpful_vote' : str(idx.metadata(d_id).get('helpful_vote')),\n",
    "        'user_location' : str(idx.metadata(d_id).get('user_location')),\n",
    "        'query_relevance' : score\n",
    "        }\n",
    "\n",
    "        reviews_df = reviews_df.append(row, ignore_index=True)"
   ]
  },
  {
   "cell_type": "code",
   "execution_count": 3,
   "metadata": {},
   "outputs": [
    {
     "ename": "NameError",
     "evalue": "name 'reviews_df' is not defined",
     "output_type": "error",
     "traceback": [
      "\u001b[0;31m---------------------------------------------------------------------------\u001b[0m",
      "\u001b[0;31mNameError\u001b[0m                                 Traceback (most recent call last)",
      "\u001b[0;32m<ipython-input-3-0e2c00b2074f>\u001b[0m in \u001b[0;36m<module>\u001b[0;34m()\u001b[0m\n\u001b[1;32m      1\u001b[0m \u001b[0;31m# Convert & clean up data\u001b[0m\u001b[0;34m\u001b[0m\u001b[0;34m\u001b[0m\u001b[0m\n\u001b[0;32m----> 2\u001b[0;31m \u001b[0mreviews_df\u001b[0m\u001b[0;34m[\u001b[0m\u001b[0;34m'rating'\u001b[0m\u001b[0;34m]\u001b[0m \u001b[0;34m=\u001b[0m \u001b[0mreviews_df\u001b[0m\u001b[0;34m[\u001b[0m\u001b[0;34m'rating'\u001b[0m\u001b[0;34m]\u001b[0m\u001b[0;34m.\u001b[0m\u001b[0mfillna\u001b[0m\u001b[0;34m(\u001b[0m\u001b[0;36m0\u001b[0m\u001b[0;34m)\u001b[0m\u001b[0;34m\u001b[0m\u001b[0m\n\u001b[0m\u001b[1;32m      3\u001b[0m \u001b[0mreviews_df\u001b[0m\u001b[0;34m[\u001b[0m\u001b[0;34m'rating'\u001b[0m\u001b[0;34m]\u001b[0m  \u001b[0;34m=\u001b[0m \u001b[0mreviews_df\u001b[0m\u001b[0;34m[\u001b[0m\u001b[0;34m'rating'\u001b[0m\u001b[0;34m]\u001b[0m\u001b[0;34m.\u001b[0m\u001b[0mastype\u001b[0m\u001b[0;34m(\u001b[0m\u001b[0mint\u001b[0m\u001b[0;34m)\u001b[0m \u001b[0;34m/\u001b[0m \u001b[0;36m10\u001b[0m \u001b[0;31m# A 5 star rating is stored on TripAdvisor as 50\u001b[0m\u001b[0;34m\u001b[0m\u001b[0m\n\u001b[1;32m      4\u001b[0m \u001b[0mreviews_df\u001b[0m\u001b[0;34m[\u001b[0m\u001b[0;34m'review_date'\u001b[0m\u001b[0;34m]\u001b[0m \u001b[0;34m=\u001b[0m \u001b[0mpd\u001b[0m\u001b[0;34m.\u001b[0m\u001b[0mto_datetime\u001b[0m\u001b[0;34m(\u001b[0m\u001b[0mreviews_df\u001b[0m\u001b[0;34m[\u001b[0m\u001b[0;34m'review_date'\u001b[0m\u001b[0;34m]\u001b[0m\u001b[0;34m,\u001b[0m \u001b[0mformat\u001b[0m\u001b[0;34m=\u001b[0m\u001b[0;34m'%B %d, %Y'\u001b[0m\u001b[0;34m)\u001b[0m\u001b[0;34m\u001b[0m\u001b[0m\n\u001b[1;32m      5\u001b[0m \u001b[0mreviews_df\u001b[0m\u001b[0;34m[\u001b[0m\u001b[0;34m'date_num'\u001b[0m\u001b[0;34m]\u001b[0m \u001b[0;34m=\u001b[0m \u001b[0mdates\u001b[0m\u001b[0;34m.\u001b[0m\u001b[0mdatestr2num\u001b[0m\u001b[0;34m(\u001b[0m\u001b[0mreviews_df\u001b[0m\u001b[0;34m[\u001b[0m\u001b[0;34m'review_date'\u001b[0m\u001b[0;34m]\u001b[0m\u001b[0;34m.\u001b[0m\u001b[0mastype\u001b[0m\u001b[0;34m(\u001b[0m\u001b[0mstr\u001b[0m\u001b[0;34m)\u001b[0m\u001b[0;34m)\u001b[0m\u001b[0;34m\u001b[0m\u001b[0m\n",
      "\u001b[0;31mNameError\u001b[0m: name 'reviews_df' is not defined"
     ]
    }
   ],
   "source": [
    "# Convert & clean up data\n",
    "reviews_df['rating'] = reviews_df['rating'].fillna(0)\n",
    "reviews_df['rating']  = reviews_df['rating'].astype(int) / 10 # A 5 star rating is stored on TripAdvisor as 50\n",
    "reviews_df['review_date'] = pd.to_datetime(reviews_df['review_date'], format='%B %d, %Y')\n",
    "reviews_df['date_num'] = dates.datestr2num(reviews_df['review_date'].astype(str))\n",
    "reviews_df['user_location'] = reviews_df['user_location'].str.strip('\\r')\n",
    "reviews_df = reviews_df.replace(r'\\\\n',' ', regex=True) \n",
    "reviews_df = reviews_df.replace(r'\\\\r',' ', regex=True) "
   ]
  },
  {
   "cell_type": "code",
   "execution_count": 4,
   "metadata": {
    "collapsed": true
   },
   "outputs": [],
   "source": [
    "# Output to file\n",
    "reviews_df.to_csv(file_stem + '_full_reviews.csv')\n",
    "reviews_df[['review_id', 'venue_name', 'review_date', 'rating',\n",
    "       'helpful_vote', 'user_location', 'query_relevance']].to_csv(file_stem + '_metadata_only.csv')"
   ]
  },
  {
   "cell_type": "markdown",
   "metadata": {},
   "source": [
    "## Visualize Query-Relevant Ratings Trend Over Time"
   ]
  },
  {
   "cell_type": "code",
   "execution_count": 5,
   "metadata": {},
   "outputs": [
    {
     "data": {
      "image/png": "[encoded data removed]",
      "text/plain": [
       "<matplotlib.figure.Figure at 0x1c389fe4b38>"
      ]
     },
     "metadata": {},
     "output_type": "display_data"
    }
   ],
   "source": [
    "# Formatting the output for visualization of ratings over time\n",
    "@plt.FuncFormatter\n",
    "def formatted_dates(x, pos):\n",
    "    return dates.num2date(x).strftime('%Y-%m-%d')\n",
    "\n",
    "fig, ax = plt.subplots()\n",
    "fig.suptitle('Query-Relevant Ratings over Time')\n",
    "fig.set_size_inches(11, 8)\n",
    "\n",
    "plt.yticks([1,2,3,4,5])\n",
    "plt.ylabel('Review Rating')\n",
    "plt.ylim(.8,5.2) # ratings can be between 1 and 5\n",
    "\n",
    "plt.xlim(reviews_df['date_num'].min()+100, reviews_df['date_num'].max()+100) # changes based on date range of reviews\n",
    "plt.xlabel('Review Date')\n",
    "\n",
    "# just use regplot if you don't need a FacetGrid\n",
    "sns.regplot('date_num', 'rating', data=reviews_df, ax=ax)\n",
    "\n",
    "# here's the magic:\n",
    "ax.xaxis.set_major_formatter(formatted_dates)\n",
    "\n",
    "# legible labels\n",
    "ax.tick_params(rotation=45)"
   ]
  },
  {
   "cell_type": "code",
   "execution_count": null,
   "metadata": {
    "collapsed": true
   },
   "outputs": [],
   "source": []
  }
 ],
 "metadata": {
  "kernelspec": {
   "display_name": "Python 3",
   "language": "python",
   "name": "python3"
  },
  "language_info": {
   "codemirror_mode": {
    "name": "ipython",
    "version": 3
   },
   "file_extension": ".py",
   "mimetype": "text/x-python",
   "name": "python",
   "nbconvert_exporter": "python",
   "pygments_lexer": "ipython3",
   "version": "3.6.3"
  }
 },
 "nbformat": 4,
 "nbformat_minor": 2
}
